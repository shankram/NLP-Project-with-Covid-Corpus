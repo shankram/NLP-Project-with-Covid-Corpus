{
  "cells": [
    {
      "cell_type": "markdown",
      "id": "c2dcbd99",
      "metadata": {
        "id": "c2dcbd99"
      },
      "source": [
        "IMPORTING REQUIRED PACKAGES"
      ]
    },
    {
      "cell_type": "code",
      "execution_count": 1,
      "id": "59ce6b36",
      "metadata": {
        "id": "59ce6b36"
      },
      "outputs": [],
      "source": [
        "import numpy as np\n",
        "import pandas as pd\n",
        "import json\n",
        "import re\n",
        "import glob\n",
        "\n",
        "from tqdm import tqdm\n",
        "from matplotlib import pyplot as plt\n",
        "from nltk.stem import WordNetLemmatizer\n",
        "from nltk.corpus import stopwords"
      ]
    },
    {
      "cell_type": "markdown",
      "id": "25ffdf04",
      "metadata": {
        "id": "25ffdf04"
      },
      "source": [
        "DEFINING ALL REQUIRED FUNCTIONS:\n",
        "    1. extractText : extracts the title, abstract and body from the paper\n",
        "    2. nonAscii_remover : removes the ascii characters from the text\n",
        "    3. Letter_remover : removes single letters from the text (got the idea to keep 'a' and 'i' after discussing with others)\n",
        "    4. Punctuation_remover : removes all punctuation\n",
        "    5. HTML_remover : Removes HTML links\n",
        "    6. Numbers_remover : Removes numbers not a part of other words "
      ]
    },
    {
      "cell_type": "code",
      "execution_count": 2,
      "id": "5d733949",
      "metadata": {
        "id": "5d733949"
      },
      "outputs": [],
      "source": [
        "def extractText(filename): \n",
        "\n",
        "    file = open(filename)\n",
        "    content = json.load(file)\n",
        "\n",
        "    title = \"\"\n",
        "    abstract = \"\"\n",
        "    body = \"\"\n",
        "\n",
        "    if 'title' in content['metadata']:\n",
        "        title = content['metadata']['title']\n",
        "    if 'abstract' in content:\n",
        "        for abs in content['abstract']:\n",
        "            abstract = abstract + abs['text']\n",
        "    if 'body_text' in content:\n",
        "        for bt in content['body_text']:\n",
        "            body = body + bt['text']\n",
        "\n",
        "    return title.lower(), abstract.lower(), body.lower()\n",
        "\n",
        "def nonAscii_remover(x): \n",
        "    cleared = ''.join(filter(lambda y: (ord(y) <= 128), x))\n",
        "    return cleared.strip()\n",
        "\n",
        "def Letter_remover(x):\n",
        "    regex = re.compile(r'\\W*\\b[b-hj-zB-HJ-Z]{1}\\b')\n",
        "    cleared = re.sub(regex, '', x)\n",
        "    return cleared.strip()\n",
        "\n",
        "def Punctuation_remover(x):\n",
        "    regex = re.compile(r'[^\\w\\s.?!-]')\n",
        "    cleared = re.sub(regex, ' ', x)\n",
        "    return cleared.strip()\n",
        "\n",
        "def HTML_remover(x):\n",
        "    regex = re.compile('<.*?>|&([a-z0-9]+|#[0-9]{1,6}|#x[0-9a-f]{1,6});')\n",
        "    cleared = re.sub(regex, '', x)\n",
        "    return cleared.strip()\n",
        "\n",
        "def Numbers_remover(x):\n",
        "    regex = re.compile(r'\\b(?<![0-9-])(\\d+)(?![0-9-])\\b')\n",
        "    cleared = re.sub(regex, '', x)\n",
        "    return cleared.strip()\n",
        "\n",
        "lemmatizer = WordNetLemmatizer()"
      ]
    },
    {
      "cell_type": "code",
      "execution_count": 5,
      "id": "9dea78b8",
      "metadata": {
        "id": "9dea78b8"
      },
      "outputs": [],
      "source": [
        "json_files = glob.glob('C:/Users/tomam/Documents/NLP/Assignments/pdf_json/*.json',recursive=True)"
      ]
    },
    {
      "cell_type": "code",
      "execution_count": 6,
      "id": "6543d740",
      "metadata": {
        "id": "6543d740"
      },
      "outputs": [],
      "source": [
        "def text_cleaner(*argv): \n",
        "    \n",
        "    sentence = \"\"\n",
        "    \n",
        "    for arg in argv:\n",
        "        arg = nonAscii_remover(arg)\n",
        "        arg = Letter_remover(arg)\n",
        "        arg = Punctuation_remover(arg)\n",
        "        arg = HTML_remover(arg)\n",
        "        arg = Numbers_remover(arg)\n",
        "        arg = ' '.join([lemmatizer.lemmatize(word) for word in arg.split()])\n",
        "        sentence = sentence + arg + '. '\n",
        "        \n",
        "    sentence = sentence[:len(sentence)-2]\n",
        "    \n",
        "    return sentence.strip() + '\\n'"
      ]
    },
    {
      "cell_type": "code",
      "execution_count": 7,
      "id": "14b8640e",
      "metadata": {
        "id": "14b8640e"
      },
      "outputs": [],
      "source": [
        "corpus = open('CovCorpus.txt','w') "
      ]
    },
    {
      "cell_type": "code",
      "execution_count": 8,
      "id": "0e21abbe",
      "metadata": {
        "id": "0e21abbe"
      },
      "outputs": [],
      "source": [
        "rng = np.random.default_rng()\n",
        "samples = rng.choice(len(json_files), size=15000, replace=False)"
      ]
    },
    {
      "cell_type": "code",
      "execution_count": 9,
      "id": "d2094574",
      "metadata": {
        "id": "d2094574",
        "outputId": "018661af-04d1-4675-8f55-af0598a2eca3"
      },
      "outputs": [
        {
          "name": "stderr",
          "output_type": "stream",
          "text": [
            "100%|██████████| 15000/15000 [07:03<00:00, 35.45it/s]"
          ]
        },
        {
          "name": "stdout",
          "output_type": "stream",
          "text": [
            "<_io.TextIOWrapper name='CovCorpus.txt' mode='w' encoding='cp1252'>\n"
          ]
        },
        {
          "name": "stderr",
          "output_type": "stream",
          "text": [
            "\n"
          ]
        }
      ],
      "source": [
        "min_length = 5\n",
        "max_length = 20\n",
        "\n",
        "for i in tqdm(samples):\n",
        "    \n",
        "    title, abstract, body = extractText(json_files[i])\n",
        "    title = title.replace('\\n', '')\n",
        "    abstract = abstract.replace('\\n', '')\n",
        "    body = body.replace('\\n', '')\n",
        "    \n",
        "    cleared = text_cleaner(title, abstract, body)\n",
        "    threshold_sentence = [x.strip()+'\\n' for x in cleared.split('.') if len(x.split()) >= min_length and len(x.split()) <= max_length]\n",
        "    \n",
        "    for word in threshold_sentence:\n",
        "        corpus.write(word)\n",
        "\n",
        "print(corpus)        \n",
        "corpus.close()"
      ]
    },
    {
      "cell_type": "code",
      "execution_count": 10,
      "id": "714f8978",
      "metadata": {
        "id": "714f8978",
        "outputId": "1a0c7d92-c7bf-4978-d01e-e8c6f11cd9ea"
      },
      "outputs": [
        {
          "data": {
            "text/plain": [
              "''"
            ]
          },
          "execution_count": 10,
          "metadata": {},
          "output_type": "execute_result"
        }
      ],
      "source": [
        "corpus = open('CovCorpus.txt','r')\n",
        "CovCorpus = corpus.read()\n",
        "corpus.close()\n",
        "\n",
        "docs = CovCorpus.split('\\n')\n",
        "docs.pop()"
      ]
    },
    {
      "cell_type": "code",
      "execution_count": 11,
      "id": "47516dfa",
      "metadata": {
        "id": "47516dfa",
        "outputId": "fe810aec-50ba-4796-f566-2262a5515903"
      },
      "outputs": [
        {
          "name": "stderr",
          "output_type": "stream",
          "text": [
            "100%|██████████| 1441550/1441550 [00:21<00:00, 65731.80it/s]\n"
          ]
        }
      ],
      "source": [
        "vocab = set()\n",
        "vocabFreqDict = {}\n",
        "vocabCount = 0\n",
        "wordCount = 0\n",
        "cumulativesum_vocab = []\n",
        "cumulativesum_word = []\n",
        "\n",
        "for doc in tqdm(docs): \n",
        "    words = doc.split()    \n",
        "    for word in words:\n",
        "      wordCount += 1\n",
        "      word = word.lower()\n",
        "      if word not in vocab:\n",
        "          vocab.add(word)\n",
        "          vocabFreqDict[word] = 1\n",
        "          vocabCount += 1\n",
        "      else:\n",
        "          vocabFreqDict[word] += 1\n",
        "\n",
        "    cumulativesum_vocab += [vocabCount]\n",
        "    cumulativesum_word += [wordCount]"
      ]
    },
    {
      "cell_type": "code",
      "execution_count": 12,
      "id": "57f585cd",
      "metadata": {
        "id": "57f585cd",
        "outputId": "7157d906-c3e4-410f-d83b-c9ebfa0869e5",
        "scrolled": true
      },
      "outputs": [
        {
          "data": {
            "text/html": [
              "<div>\n",
              "<style scoped>\n",
              "    .dataframe tbody tr th:only-of-type {\n",
              "        vertical-align: middle;\n",
              "    }\n",
              "\n",
              "    .dataframe tbody tr th {\n",
              "        vertical-align: top;\n",
              "    }\n",
              "\n",
              "    .dataframe thead th {\n",
              "        text-align: right;\n",
              "    }\n",
              "</style>\n",
              "<table border=\"1\" class=\"dataframe\">\n",
              "  <thead>\n",
              "    <tr style=\"text-align: right;\">\n",
              "      <th></th>\n",
              "      <th>Word</th>\n",
              "      <th># Occurences</th>\n",
              "    </tr>\n",
              "    <tr>\n",
              "      <th>Rank</th>\n",
              "      <th></th>\n",
              "      <th></th>\n",
              "    </tr>\n",
              "  </thead>\n",
              "  <tbody>\n",
              "    <tr>\n",
              "      <th>1</th>\n",
              "      <td>the</td>\n",
              "      <td>1047837</td>\n",
              "    </tr>\n",
              "    <tr>\n",
              "      <th>2</th>\n",
              "      <td>of</td>\n",
              "      <td>687575</td>\n",
              "    </tr>\n",
              "    <tr>\n",
              "      <th>3</th>\n",
              "      <td>and</td>\n",
              "      <td>559508</td>\n",
              "    </tr>\n",
              "    <tr>\n",
              "      <th>4</th>\n",
              "      <td>in</td>\n",
              "      <td>497029</td>\n",
              "    </tr>\n",
              "    <tr>\n",
              "      <th>5</th>\n",
              "      <td>a</td>\n",
              "      <td>419767</td>\n",
              "    </tr>\n",
              "    <tr>\n",
              "      <th>...</th>\n",
              "      <td>...</td>\n",
              "      <td>...</td>\n",
              "    </tr>\n",
              "    <tr>\n",
              "      <th>96</th>\n",
              "      <td>first</td>\n",
              "      <td>18495</td>\n",
              "    </tr>\n",
              "    <tr>\n",
              "      <th>97</th>\n",
              "      <td>health</td>\n",
              "      <td>18347</td>\n",
              "    </tr>\n",
              "    <tr>\n",
              "      <th>98</th>\n",
              "      <td>should</td>\n",
              "      <td>18338</td>\n",
              "    </tr>\n",
              "    <tr>\n",
              "      <th>99</th>\n",
              "      <td>some</td>\n",
              "      <td>18337</td>\n",
              "    </tr>\n",
              "    <tr>\n",
              "      <th>100</th>\n",
              "      <td>when</td>\n",
              "      <td>18286</td>\n",
              "    </tr>\n",
              "  </tbody>\n",
              "</table>\n",
              "<p>100 rows × 2 columns</p>\n",
              "</div>"
            ],
            "text/plain": [
              "        Word  # Occurences\n",
              "Rank                      \n",
              "1        the       1047837\n",
              "2         of        687575\n",
              "3        and        559508\n",
              "4         in        497029\n",
              "5          a        419767\n",
              "...      ...           ...\n",
              "96     first         18495\n",
              "97    health         18347\n",
              "98    should         18338\n",
              "99      some         18337\n",
              "100     when         18286\n",
              "\n",
              "[100 rows x 2 columns]"
            ]
          },
          "execution_count": 12,
          "metadata": {},
          "output_type": "execute_result"
        }
      ],
      "source": [
        "wordRank = pd.DataFrame(sorted(vocabFreqDict.items(), key=lambda x: x[1], reverse=True), columns = ['Word', '# Occurences'], index = range(1,len(vocab)+1))\n",
        "wordRank.index.name = 'Rank'\n",
        "wordRank[:100]"
      ]
    },
    {
      "cell_type": "markdown",
      "id": "b672d76d",
      "metadata": {
        "id": "b672d76d"
      },
      "source": [
        "Calculating alpha value"
      ]
    },
    {
      "cell_type": "code",
      "execution_count": 13,
      "id": "10c54653",
      "metadata": {
        "id": "10c54653",
        "outputId": "96b41793-4bea-45a5-bc8f-b22f770434e7"
      },
      "outputs": [
        {
          "name": "stderr",
          "output_type": "stream",
          "text": [
            "100%|██████████| 394925/394925 [01:14<00:00, 5269.30it/s]"
          ]
        },
        {
          "name": "stdout",
          "output_type": "stream",
          "text": [
            "\n",
            " 1.0953115056018483\n"
          ]
        },
        {
          "name": "stderr",
          "output_type": "stream",
          "text": [
            "\n"
          ]
        }
      ],
      "source": [
        "alpha = 0 \n",
        "for i in tqdm(range(2, len(wordRank)+1)):\n",
        "    x = wordRank.loc[1][1]/wordRank.loc[i][1]\n",
        "    alpha += np.log(x)/np.log(i)\n",
        "alpha = alpha/len(wordRank)\n",
        "print('\\n', alpha)"
      ]
    },
    {
      "cell_type": "code",
      "execution_count": 14,
      "id": "a689143b",
      "metadata": {
        "colab": {
          "base_uri": "https://localhost:8080/",
          "height": 200
        },
        "id": "a689143b",
        "outputId": "731e49d9-71c3-4e00-927e-e7e5e6413f57"
      },
      "outputs": [],
      "source": [
        "heapLaw = [] \n",
        "for i in cumulativesum_word:\n",
        "    heapLaw += [30*(i)**0.55]"
      ]
    },
    {
      "cell_type": "code",
      "execution_count": 15,
      "id": "52adbfa7",
      "metadata": {
        "id": "52adbfa7"
      },
      "outputs": [
        {
          "data": {
            "image/png": "[encoded data removed]",
            "text/plain": [
              "<Figure size 1440x720 with 1 Axes>"
            ]
          },
          "metadata": {
            "needs_background": "light"
          },
          "output_type": "display_data"
        }
      ],
      "source": [
        "plt.figure(figsize = (20,10))\n",
        "plt.plot(np.log(cumulativesum_word),np.log(cumulativesum_vocab),label = 'vocabulary')\n",
        "plt.plot(np.log(cumulativesum_word),np.log(heapLaw),label = 'heap\\'s law estimate')\n",
        "plt.xlabel(\"Number of words\")\n",
        "plt.ylabel(\"Vocabulary\")\n",
        "plt.legend()\n",
        "plt.show()"
      ]
    },
    {
      "cell_type": "code",
      "execution_count": null,
      "id": "65f57c3d",
      "metadata": {},
      "outputs": [],
      "source": []
    }
  ],
  "metadata": {
    "colab": {
      "collapsed_sections": [],
      "name": "Assignment_01_ShankarRamVasudevan_MCS202114.ipynb",
      "provenance": []
    },
    "interpreter": {
      "hash": "285e44766fef620a5325f4ccc340373809d9df413359230dde72cf19e88cda48"
    },
    "kernelspec": {
      "display_name": "Python 3.9.7 ('torch')",
      "language": "python",
      "name": "python3"
    },
    "language_info": {
      "codemirror_mode": {
        "name": "ipython",
        "version": 3
      },
      "file_extension": ".py",
      "mimetype": "text/x-python",
      "name": "python",
      "nbconvert_exporter": "python",
      "pygments_lexer": "ipython3",
      "version": "3.9.7"
    }
  },
  "nbformat": 4,
  "nbformat_minor": 5
}
